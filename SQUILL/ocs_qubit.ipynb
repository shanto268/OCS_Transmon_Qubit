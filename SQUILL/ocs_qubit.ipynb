{
 "cells": [
  {
   "cell_type": "markdown",
   "id": "3c5aa372",
   "metadata": {},
   "source": [
    "# OCS Qubit\n",
    "\n",
    "## To Do:\n",
    "\n",
    "1. Create Metal GUI structure for OCS qubit\n",
    "2. Scattering Simulation of OCS structure\n",
    "3. Calculate $w_{01}, E_j$ and $E_c$ from simulation\n",
    "4. Calculate anharmonicity $\\alpha$ from `qiskit-metal/hamiltonian/transmon_analytics.py`\n",
    "\n",
    "## To Set Up:\n",
    "\n",
    "1. Parameter sweep of OCS qubit to get required $\\frac{E_j}{E_c} \\approx 20$"
   ]
  },
  {
   "cell_type": "code",
   "execution_count": 1,
   "id": "9468047e",
   "metadata": {},
   "outputs": [],
   "source": [
    "%reload_ext autoreload\n",
    "%autoreload 2"
   ]
  },
  {
   "cell_type": "code",
   "execution_count": 2,
   "id": "e70ce053",
   "metadata": {},
   "outputs": [
    {
     "name": "stderr",
     "output_type": "stream",
     "text": [
      "D:\\Users\\lfl\\Anaconda3\\envs\\qiskit-metal\\lib\\site-packages\\pyproj\\__init__.py:89: UserWarning: pyproj unable to set database path.\n",
      "  _pyproj_global_context_initialize()\n"
     ]
    }
   ],
   "source": [
    "import qiskit_metal as metal\n",
    "from qiskit_metal import designs, draw\n",
    "from qiskit_metal import MetalGUI, Dict, Headings\n",
    "from qiskit_metal.qlibrary.qubits.transmon_cross import TransmonCross\n",
    "from qiskit_metal.qlibrary.qubits.transmon_cross_fl import TransmonCrossFL\n",
    "from qiskit_metal.qlibrary.tlines.meandered import RouteMeander\n",
    "from qiskit_metal.qlibrary.terminations.open_to_ground import OpenToGround\n",
    "from qiskit_metal.qlibrary.terminations.launchpad_wb import LaunchpadWirebond\n",
    "from qiskit_metal.qlibrary.terminations.launchpad_wb_coupled import LaunchpadWirebondCoupled\n",
    "from qiskit_metal.qlibrary.tlines.pathfinder import RoutePathfinder"
   ]
  },
  {
   "cell_type": "code",
   "execution_count": 3,
   "id": "522fde60",
   "metadata": {},
   "outputs": [],
   "source": [
    "def set_physical_parameter(value, units):\n",
    "    if value == 0:\n",
    "        return 0\n",
    "    else:\n",
    "        return str(value)+units"
   ]
  },
  {
   "cell_type": "markdown",
   "id": "f6142ead",
   "metadata": {},
   "source": [
    "# Physical Parameters\n",
    " \n",
    "## Qubit Physical Parameters"
   ]
  },
  {
   "cell_type": "code",
   "execution_count": 4,
   "id": "df861e37",
   "metadata": {},
   "outputs": [],
   "source": [
    "cross_gap = 30\n",
    "cross_width = 30\n",
    "cross_length = 180\n",
    "L_j = 10\n",
    "C_j = 0"
   ]
  },
  {
   "cell_type": "markdown",
   "id": "b2b9f2ed",
   "metadata": {},
   "source": [
    "## Claw Physical Parameters"
   ]
  },
  {
   "cell_type": "code",
   "execution_count": 5,
   "id": "86f4cb44",
   "metadata": {},
   "outputs": [],
   "source": [
    "claw_length = 150\n",
    "claw_width = 7\n",
    "claw_gap = 6"
   ]
  },
  {
   "cell_type": "code",
   "execution_count": 6,
   "id": "ba8dec7d",
   "metadata": {},
   "outputs": [],
   "source": [
    "claw_params = dict(connector_location = '90',\n",
    "                 claw_length =  set_physical_parameter(claw_length, \"um\"),\n",
    "                 claw_width = set_physical_parameter(claw_width, \"um\"),\n",
    "                 claw_gap =  set_physical_parameter(claw_gap, \"um\"),\n",
    "                 ground_spacing = '10um')"
   ]
  },
  {
   "cell_type": "markdown",
   "id": "7420edbc",
   "metadata": {},
   "source": [
    "## Chip Parameters"
   ]
  },
  {
   "cell_type": "code",
   "execution_count": 7,
   "id": "2399e10b",
   "metadata": {},
   "outputs": [],
   "source": [
    "chip_x = 5\n",
    "chip_y = 5"
   ]
  },
  {
   "cell_type": "code",
   "execution_count": 8,
   "id": "45c68e98",
   "metadata": {},
   "outputs": [],
   "source": [
    "design = designs.DesignPlanar({}, True)\n",
    "design.delete_all_components()\n",
    "\n",
    "design.chips.main.size['size_x'] = set_physical_parameter(chip_x, \"mm\")\n",
    "design.chips.main.size['size_y'] = set_physical_parameter(chip_y, \"mm\")"
   ]
  },
  {
   "cell_type": "code",
   "execution_count": 9,
   "id": "07ea327c",
   "metadata": {},
   "outputs": [],
   "source": [
    "gui = MetalGUI(design)"
   ]
  },
  {
   "cell_type": "markdown",
   "id": "31bc4a34",
   "metadata": {},
   "source": [
    "# Qubit"
   ]
  },
  {
   "cell_type": "code",
   "execution_count": 10,
   "id": "1ca84bf2",
   "metadata": {},
   "outputs": [],
   "source": [
    "design.overwrite_enabled = True"
   ]
  },
  {
   "cell_type": "code",
   "execution_count": 11,
   "id": "56207e86",
   "metadata": {},
   "outputs": [
    {
     "data": {
      "text/plain": [
       "{'pos_x': '0.0um',\n",
       " 'pos_y': '0.0um',\n",
       " 'orientation': '0.0',\n",
       " 'chip': 'main',\n",
       " 'layer': '1',\n",
       " 'connection_pads': {},\n",
       " '_default_connection_pads': {'connector_type': '0',\n",
       "  'claw_length': '30um',\n",
       "  'ground_spacing': '5um',\n",
       "  'claw_width': '10um',\n",
       "  'claw_gap': '6um',\n",
       "  'connector_location': '0'},\n",
       " 'cross_width': '20um',\n",
       " 'cross_length': '200um',\n",
       " 'cross_gap': '20um',\n",
       " 'make_fl': True,\n",
       " 'fl_options': {'t_top': '15um',\n",
       "  't_offset': '0um',\n",
       "  't_inductive_gap': '3um',\n",
       "  't_width': '5um',\n",
       "  't_gap': '3um'},\n",
       " 'hfss_wire_bonds': False,\n",
       " 'q3d_wire_bonds': False,\n",
       " 'hfss_inductance': '10nH',\n",
       " 'hfss_capacitance': 0,\n",
       " 'hfss_resistance': 0,\n",
       " 'hfss_mesh_kw_jj': 7e-06,\n",
       " 'q3d_inductance': '10nH',\n",
       " 'q3d_capacitance': 0,\n",
       " 'q3d_resistance': 0,\n",
       " 'q3d_mesh_kw_jj': 7e-06,\n",
       " 'gds_cell_name': 'my_other_junction'}"
      ]
     },
     "execution_count": 11,
     "metadata": {},
     "output_type": "execute_result"
    }
   ],
   "source": [
    "TransmonCrossFL.get_template_options(design)"
   ]
  },
  {
   "cell_type": "code",
   "execution_count": 12,
   "id": "56e02b6c",
   "metadata": {},
   "outputs": [],
   "source": [
    "left = True\n",
    "resistance = 50 # Ohms (signal path)"
   ]
  },
  {
   "cell_type": "code",
   "execution_count": 13,
   "id": "2c135df6",
   "metadata": {},
   "outputs": [],
   "source": [
    "transmon_options = dict(\n",
    "        chip = 'main',\n",
    "        pos_x = '1mm',\n",
    "        pos_y = '1mm',\n",
    "        orientation = 270 if left else 90,\n",
    "        pin_orientation = -90 if left else 90,\n",
    "        flux_orientation = -90 if left else 90,\n",
    "        cross_gap = set_physical_parameter(cross_gap, \"um\"), \n",
    "        cross_width = set_physical_parameter(cross_width, \"um\"), \n",
    "        cross_length = set_physical_parameter(cross_length, \"um\"), \n",
    "        hfss_inductance = set_physical_parameter(L_j, \"nH\"),\n",
    "        hfss_capacitance = set_physical_parameter(C_j, \"fF\"),\n",
    "        q3d_inductance = set_physical_parameter(L_j, \"nH\"),\n",
    "        q3d_capacitance = set_physical_parameter(C_j, \"fF\"),\n",
    "        connection_pads=dict(\n",
    "        claw = claw_params,\n",
    "        )\n",
    ")\n"
   ]
  },
  {
   "cell_type": "code",
   "execution_count": 14,
   "id": "f5f83c51",
   "metadata": {},
   "outputs": [],
   "source": [
    "q1 = TransmonCrossFL(design, 'Q1', options = transmon_options)"
   ]
  },
  {
   "cell_type": "code",
   "execution_count": 15,
   "id": "7545684e",
   "metadata": {},
   "outputs": [
    {
     "data": {
      "image/png": "[encoded data removed]",
      "text/plain": [
       "<IPython.core.display.Image object>"
      ]
     },
     "metadata": {
      "image/png": {
       "width": 500
      }
     },
     "output_type": "display_data"
    }
   ],
   "source": [
    "gui.rebuild()\n",
    "gui.autoscale()\n",
    "gui.screenshot()"
   ]
  },
  {
   "cell_type": "code",
   "execution_count": 16,
   "id": "06dde2f2",
   "metadata": {},
   "outputs": [],
   "source": [
    "from qiskit_metal.analyses.quantization import EPRanalysis\n",
    "\n",
    "eig_qb = EPRanalysis(design, \"hfss\")"
   ]
  },
  {
   "cell_type": "code",
   "execution_count": 17,
   "id": "04a6ea58",
   "metadata": {},
   "outputs": [
    {
     "name": "stderr",
     "output_type": "stream",
     "text": [
      "INFO 09:36PM [connect_project]: Connecting to Ansys Desktop API...\n",
      "INFO 09:36PM [load_ansys_project]: \tOpened Ansys App\n",
      "INFO 09:36PM [load_ansys_project]: \tOpened Ansys Desktop v2021.1.0\n",
      "INFO 09:36PM [load_ansys_project]: \tOpened Ansys Project\n",
      "\tFolder:    D:/Users/lfl/Documents/HFSS/\n",
      "\tProject:   Project39\n",
      "INFO 09:36PM [connect_design]: \tOpened active design\n",
      "\tDesign:    TransmonQubit_2 [Solution type: Eigenmode]\n",
      "INFO 09:36PM [get_setup]: \tOpened setup `Setup`  (<class 'pyEPR.ansys.HfssEMSetup'>)\n",
      "INFO 09:36PM [connect]: \tConnected to project \"Project39\" and design \"TransmonQubit_2\" 😀 \n",
      "\n"
     ]
    }
   ],
   "source": [
    "hfss = eig_qb.sim.renderer\n",
    "x = hfss.start()\n"
   ]
  },
  {
   "cell_type": "code",
   "execution_count": 18,
   "id": "95cb3fcf",
   "metadata": {},
   "outputs": [
    {
     "name": "stderr",
     "output_type": "stream",
     "text": [
      "INFO 09:36PM [connect_design]: \tOpened active design\n",
      "\tDesign:    TransmonQubit_2 [Solution type: Eigenmode]\n"
     ]
    }
   ],
   "source": [
    "hfss.activate_ansys_design(\"TransmonQubit_2\", 'eigenmode')  # use new_ansys_design() to force creation of a blank design"
   ]
  },
  {
   "cell_type": "code",
   "execution_count": 20,
   "id": "a8916fe4",
   "metadata": {},
   "outputs": [],
   "source": [
    "hfss.clean_active_design()"
   ]
  },
  {
   "cell_type": "code",
   "execution_count": 21,
   "id": "72cd2d89",
   "metadata": {},
   "outputs": [],
   "source": [
    "hfss.render_design(\n",
    "                selection=['Q1'],  open_pins=[],  port_list=[(\"Q1\",\"claw\", resistance)], box_plus_buffer = True)"
   ]
  },
  {
   "cell_type": "code",
   "execution_count": 22,
   "id": "abd6c641",
   "metadata": {},
   "outputs": [
    {
     "name": "stdout",
     "output_type": "stream",
     "text": [
      "\n",
      "Number of eigenmodes to find             = 1\n",
      "Number of simulation passes              = 10\n",
      "Convergence freq max delta percent diff  = 0.1\n",
      "\n"
     ]
    }
   ],
   "source": [
    "# Analysis properties\n",
    "setup = hfss.pinfo.setup\n",
    "setup.passes = 10\n",
    "print(f\"\"\"\n",
    "Number of eigenmodes to find             = {setup.n_modes}\n",
    "Number of simulation passes              = {setup.passes}\n",
    "Convergence freq max delta percent diff  = {setup.delta_f}\n",
    "\"\"\")"
   ]
  },
  {
   "cell_type": "code",
   "execution_count": 23,
   "id": "1442cd27",
   "metadata": {},
   "outputs": [
    {
     "data": {
      "text/plain": [
       "'Cj'"
      ]
     },
     "execution_count": 23,
     "metadata": {},
     "output_type": "execute_result"
    }
   ],
   "source": [
    "pinfo = hfss.pinfo\n",
    "pinfo.design.set_variable('Lj', set_physical_parameter(L_j, \"nH\"))\n",
    "pinfo.design.set_variable('Cj', set_physical_parameter(C_j, \"fF\"))"
   ]
  },
  {
   "cell_type": "code",
   "execution_count": 24,
   "id": "02e9176f",
   "metadata": {},
   "outputs": [
    {
     "name": "stderr",
     "output_type": "stream",
     "text": [
      "INFO 09:37PM [analyze]: Analyzing setup Setup\n"
     ]
    }
   ],
   "source": [
    "setup.analyze()"
   ]
  },
  {
   "cell_type": "code",
   "execution_count": 25,
   "id": "402b0b61",
   "metadata": {},
   "outputs": [
    {
     "name": "stderr",
     "output_type": "stream",
     "text": [
      "WARNING:py.warnings:D:\\Users\\lfl\\Anaconda3\\envs\\qiskit-metal\\lib\\site-packages\\pyEPR\\ansys.py:1222: FutureWarning: In a future version of pandas all arguments of DataFrame.drop except for the argument 'labels' will be keyword-only\n",
      "  df = pd.read_csv(io.StringIO(text2[3].strip()),\n",
      "\n",
      "09:39PM 25s INFO [get_f_convergence]: Saved convergences to C:\\Users\\lfl\\OCS_Transmon_Qubit\\SQUILL\\hfss_eig_f_convergence.csv\n"
     ]
    }
   ],
   "source": [
    "eig_qb.sim.convergence_t, eig_qb.sim.convergence_f, _ = hfss.get_convergences()\n",
    "eig_qb.sim.plot_convergences()"
   ]
  },
  {
   "cell_type": "code",
   "execution_count": 27,
   "id": "a0d015f9",
   "metadata": {},
   "outputs": [],
   "source": [
    "import numpy as np"
   ]
  },
  {
   "cell_type": "code",
   "execution_count": 28,
   "id": "a318cd2d",
   "metadata": {},
   "outputs": [
    {
     "data": {
      "text/plain": [
       "5.00551255141253"
      ]
     },
     "execution_count": 28,
     "metadata": {},
     "output_type": "execute_result"
    }
   ],
   "source": [
    "freqs = eig_qb.sim.convergence_f[\"re(Mode(1)) [g]\"].values\n",
    "\n",
    "freqs = freqs[~np.isnan(freqs)]\n",
    "\n",
    "qubit_freq = freqs[-1]\n",
    "qubit_freq"
   ]
  },
  {
   "cell_type": "code",
   "execution_count": 29,
   "id": "865728c6",
   "metadata": {},
   "outputs": [],
   "source": [
    "pinfo = hfss.pinfo\n",
    "pinfo.junctions['jj'] = {'Lj_variable': 'Lj', 'rect': 'JJ_rect_Lj_Q1_rect_jj',\n",
    "                             'line': 'JJ_Lj_Q1_rect_jj_',  'Cj_variable': 'Cj'}\n",
    "pinfo.validate_junction_info() # Check that valid names of variables and objects have been supplied\n",
    "pinfo.dissipative['dielectrics_bulk'] = ['main'] # Dissipative elements: specify"
   ]
  },
  {
   "cell_type": "code",
   "execution_count": 32,
   "id": "d2a6d821",
   "metadata": {},
   "outputs": [
    {
     "name": "stdout",
     "output_type": "stream",
     "text": [
      "Design \"TransmonQubit_2\" info:\n",
      "\t# eigenmodes    1\n",
      "\t# variations    1\n"
     ]
    }
   ],
   "source": [
    "import pyEPR as epr\n",
    "\n",
    "eprd = epr.DistributedAnalysis(pinfo)"
   ]
  },
  {
   "cell_type": "code",
   "execution_count": 34,
   "id": "eb23fa5e",
   "metadata": {},
   "outputs": [
    {
     "name": "stdout",
     "output_type": "stream",
     "text": [
      "\n",
      "Variation 0  [1/1]\n",
      "\n",
      "  \u001b[1mMode 0 at 5.01 GHz   [1/1]\u001b[0m\n",
      "    Calculating ℰ_magnetic,ℰ_electric\n",
      "       (ℰ_E-ℰ_H)/ℰ_E       ℰ_E       ℰ_H\n",
      "               99.0%  1.903e-25 1.879e-27\n",
      "\n",
      "    Calculating junction energy participation ration (EPR)\n",
      "\tmethod=`line_voltage`. First estimates:\n",
      "\tjunction        EPR p_0j   sign s_0j    (p_capacitive)\n"
     ]
    },
    {
     "name": "stderr",
     "output_type": "stream",
     "text": [
      "WARNING:py.warnings:D:\\Users\\lfl\\Anaconda3\\envs\\qiskit-metal\\lib\\site-packages\\pyEPR\\ansys.py:1250: FutureWarning: In a future version of pandas all arguments of DataFrame.drop except for the argument 'labels' will be keyword-only\n",
      "  df = df.drop('Unnamed: 9', 1)\n",
      "\n",
      "WARNING:py.warnings:D:\\Users\\lfl\\Anaconda3\\envs\\qiskit-metal\\lib\\site-packages\\pyEPR\\ansys.py:1222: FutureWarning: In a future version of pandas all arguments of DataFrame.drop except for the argument 'labels' will be keyword-only\n",
      "  df = pd.read_csv(io.StringIO(text2[3].strip()),\n",
      "\n"
     ]
    },
    {
     "name": "stdout",
     "output_type": "stream",
     "text": [
      "\t\tEnergy fraction (Lj over Lj&Cj)= 98.06%\n",
      "\tjj              0.988731  (+)        0.0195598\n",
      "\t\t(U_tot_cap-U_tot_ind)/mean=1.04%\n",
      "Calculating Qdielectric_main for mode 0 (0/0)\n",
      "p_dielectric_main_0 = 0.920915519893862\n",
      "\n",
      "ANALYSIS DONE. Data saved to:\n",
      "\n",
      "C:\\data-pyEPR\\Project39\\TransmonQubit_2\\2022-11-15 21-40-12.npz\n",
      "\n",
      "\n"
     ]
    },
    {
     "data": {
      "text/plain": [
       "(WindowsPath('C:/data-pyEPR/Project39/TransmonQubit_2/2022-11-15 21-40-12.npz'),\n",
       " ['0'])"
      ]
     },
     "execution_count": 34,
     "metadata": {},
     "output_type": "execute_result"
    }
   ],
   "source": [
    "eprd.do_EPR_analysis()"
   ]
  },
  {
   "cell_type": "code",
   "execution_count": 35,
   "id": "389a66ed",
   "metadata": {},
   "outputs": [
    {
     "name": "stderr",
     "output_type": "stream",
     "text": [
      "WARNING 09:40PM [__init__]: <p>Error: <class 'IndexError'></p>\n"
     ]
    },
    {
     "name": "stdout",
     "output_type": "stream",
     "text": [
      "\t Differences in variations:\n",
      "\n",
      "\n"
     ]
    }
   ],
   "source": [
    "epra = epr.QuantumAnalysis(eprd.data_filename)"
   ]
  },
  {
   "cell_type": "code",
   "execution_count": 36,
   "id": "ec6c7cfe",
   "metadata": {},
   "outputs": [
    {
     "name": "stdout",
     "output_type": "stream",
     "text": [
      "\n",
      " . . . . . . . . . . . . . . . . . . . . . . . . . . . . . . . . . . . . . . . . \n",
      "Variation 0\n",
      "\n",
      "Starting the diagonalization\n",
      "Finished the diagonalization\n",
      "Pm_norm=\n",
      "modes\n",
      "0    1.021094\n",
      "dtype: float64\n",
      "\n",
      "Pm_norm idx =\n",
      "     jj\n",
      "0  True\n",
      "*** P (participation matrix, not normlz.)\n",
      "         jj\n",
      "0  0.969763\n",
      "\n",
      "*** S (sign-bit matrix)\n",
      "   s_jj\n",
      "0     1\n",
      "*** P (participation matrix, normalized.)\n",
      "      0.99\n",
      "\n",
      "*** Chi matrix O1 PT (MHz)\n",
      "    Diag is anharmonicity, off diag is full cross-Kerr.\n",
      "       188\n",
      "\n",
      "*** Chi matrix ND (MHz) \n",
      "       204\n",
      "\n",
      "*** Frequencies O1 PT (MHz)\n",
      "0    4817.643823\n",
      "dtype: float64\n",
      "\n",
      "*** Frequencies ND (MHz)\n",
      "0    4809.988423\n",
      "dtype: float64\n",
      "\n",
      "*** Q_coupling\n",
      "Empty DataFrame\n",
      "Columns: []\n",
      "Index: [0]\n"
     ]
    }
   ],
   "source": [
    "sim_info = epra.analyze_all_variations(cos_trunc = 8, fock_trunc = 7)"
   ]
  },
  {
   "cell_type": "code",
   "execution_count": 37,
   "id": "b70b2d87",
   "metadata": {},
   "outputs": [
    {
     "data": {
      "text/html": [
       "<div>\n",
       "<style scoped>\n",
       "    .dataframe tbody tr th:only-of-type {\n",
       "        vertical-align: middle;\n",
       "    }\n",
       "\n",
       "    .dataframe tbody tr th {\n",
       "        vertical-align: top;\n",
       "    }\n",
       "\n",
       "    .dataframe thead th {\n",
       "        text-align: right;\n",
       "    }\n",
       "</style>\n",
       "<table border=\"1\" class=\"dataframe\">\n",
       "  <thead>\n",
       "    <tr style=\"text-align: right;\">\n",
       "      <th></th>\n",
       "      <th>0</th>\n",
       "    </tr>\n",
       "  </thead>\n",
       "  <tbody>\n",
       "    <tr>\n",
       "      <th>Cjs</th>\n",
       "      <td>jj    2.000000e-15\n",
       "Name: 0, dtype: float64</td>\n",
       "    </tr>\n",
       "    <tr>\n",
       "      <th>Ljs</th>\n",
       "      <td>jj    1.000000e-08\n",
       "Name: 0, dtype: float64</td>\n",
       "    </tr>\n",
       "    <tr>\n",
       "      <th>Pm_normed</th>\n",
       "      <td>[[0.9902194287065362]]</td>\n",
       "    </tr>\n",
       "    <tr>\n",
       "      <th>Pm_raw</th>\n",
       "      <td>0    0.969763\n",
       "Name: jj, dtype: float64</td>\n",
       "    </tr>\n",
       "    <tr>\n",
       "      <th>Q_coupling</th>\n",
       "      <td>Empty DataFrame\n",
       "Columns: []\n",
       "Index: [0]</td>\n",
       "    </tr>\n",
       "    <tr>\n",
       "      <th>Qs</th>\n",
       "      <td>0    6.262231e+06\n",
       "Name: 0, dtype: float64</td>\n",
       "    </tr>\n",
       "    <tr>\n",
       "      <th>ZPF</th>\n",
       "      <td>[[0.3893742649595288]]</td>\n",
       "    </tr>\n",
       "    <tr>\n",
       "      <th>_Pm_cap_norm</th>\n",
       "      <td>modes\n",
       "0    0.46905\n",
       "dtype: float64</td>\n",
       "    </tr>\n",
       "    <tr>\n",
       "      <th>_Pm_norm</th>\n",
       "      <td>modes\n",
       "0    1.021094\n",
       "dtype: float64</td>\n",
       "    </tr>\n",
       "    <tr>\n",
       "      <th>chi_ND</th>\n",
       "      <td>0\n",
       "0  204.292344</td>\n",
       "    </tr>\n",
       "    <tr>\n",
       "      <th>chi_O1</th>\n",
       "      <td>0\n",
       "0  187.868728</td>\n",
       "    </tr>\n",
       "    <tr>\n",
       "      <th>cos_trunc</th>\n",
       "      <td>8</td>\n",
       "    </tr>\n",
       "    <tr>\n",
       "      <th>f_0</th>\n",
       "      <td>0    5005.512551\n",
       "Name: 0, dtype: float64</td>\n",
       "    </tr>\n",
       "    <tr>\n",
       "      <th>f_1</th>\n",
       "      <td>0    4817.643823\n",
       "dtype: float64</td>\n",
       "    </tr>\n",
       "    <tr>\n",
       "      <th>f_ND</th>\n",
       "      <td>0    4809.988423\n",
       "dtype: float64</td>\n",
       "    </tr>\n",
       "    <tr>\n",
       "      <th>fock_trunc</th>\n",
       "      <td>7</td>\n",
       "    </tr>\n",
       "    <tr>\n",
       "      <th>hfss_variables</th>\n",
       "      <td>_Cj       0\n",
       "_Lj    10nH\n",
       "Name: 0, dtype: object</td>\n",
       "    </tr>\n",
       "  </tbody>\n",
       "</table>\n",
       "</div>"
      ],
      "text/plain": [
       "                                                             0\n",
       "Cjs                 jj    2.000000e-15\n",
       "Name: 0, dtype: float64\n",
       "Ljs                 jj    1.000000e-08\n",
       "Name: 0, dtype: float64\n",
       "Pm_normed                               [[0.9902194287065362]]\n",
       "Pm_raw                  0    0.969763\n",
       "Name: jj, dtype: float64\n",
       "Q_coupling              Empty DataFrame\n",
       "Columns: []\n",
       "Index: [0]\n",
       "Qs                   0    6.262231e+06\n",
       "Name: 0, dtype: float64\n",
       "ZPF                                     [[0.3893742649595288]]\n",
       "_Pm_cap_norm                 modes\n",
       "0    0.46905\n",
       "dtype: float64\n",
       "_Pm_norm                    modes\n",
       "0    1.021094\n",
       "dtype: float64\n",
       "chi_ND                                         0\n",
       "0  204.292344\n",
       "chi_O1                                         0\n",
       "0  187.868728\n",
       "cos_trunc                                                    8\n",
       "f_0                   0    5005.512551\n",
       "Name: 0, dtype: float64\n",
       "f_1                            0    4817.643823\n",
       "dtype: float64\n",
       "f_ND                           0    4809.988423\n",
       "dtype: float64\n",
       "fock_trunc                                                   7\n",
       "hfss_variables  _Cj       0\n",
       "_Lj    10nH\n",
       "Name: 0, dtype: object"
      ]
     },
     "execution_count": 37,
     "metadata": {},
     "output_type": "execute_result"
    }
   ],
   "source": [
    "import pandas as pd\n",
    "\n",
    "df = pd.DataFrame(sim_info, columns=sim_info.keys())\n",
    "df"
   ]
  },
  {
   "cell_type": "code",
   "execution_count": 38,
   "id": "e7bba862",
   "metadata": {},
   "outputs": [
    {
     "data": {
      "text/plain": [
       "1.6877602228352326"
      ]
     },
     "execution_count": 38,
     "metadata": {},
     "output_type": "execute_result"
    }
   ],
   "source": [
    "EjEc_ratio = float(epra.get_Ejs('0')) / float(epra.get_Ecs('0'))\n",
    "EjEc_ratio"
   ]
  },
  {
   "cell_type": "code",
   "execution_count": 39,
   "id": "6699e374",
   "metadata": {},
   "outputs": [
    {
     "data": {
      "text/plain": [
       "187.86872800281628"
      ]
     },
     "execution_count": 39,
     "metadata": {},
     "output_type": "execute_result"
    }
   ],
   "source": [
    "alpha = df[\"0\"][\"chi_O1\"].values[0][0] #?\n",
    "alpha "
   ]
  },
  {
   "cell_type": "markdown",
   "id": "b97d5bcc",
   "metadata": {},
   "source": [
    "The $E_j/ E_c$ make no sense!\n",
    "\n",
    "---"
   ]
  },
  {
   "cell_type": "markdown",
   "id": "5a482b7f",
   "metadata": {},
   "source": [
    "# Scattering Simulation"
   ]
  },
  {
   "cell_type": "code",
   "execution_count": 42,
   "id": "7c506cbf",
   "metadata": {},
   "outputs": [],
   "source": [
    "# This class lets us get S Y Z parameters\n",
    "from qiskit_metal.analyses.simulation import ScatteringImpedanceSim\n",
    "em1 = ScatteringImpedanceSim(design, \"hfss\")"
   ]
  },
  {
   "cell_type": "code",
   "execution_count": 44,
   "id": "c81f0680",
   "metadata": {},
   "outputs": [
    {
     "data": {
      "text/plain": [
       "{'name': 'Setup',\n",
       " 'reuse_selected_design': False,\n",
       " 'reuse_setup': False,\n",
       " 'freq_ghz': 5,\n",
       " 'max_delta_s': 0.1,\n",
       " 'max_passes': 12,\n",
       " 'min_passes': 5,\n",
       " 'min_converged': 5,\n",
       " 'pct_refinement': 30,\n",
       " 'basis_order': 1,\n",
       " 'vars': {'Lj': '10 nH', 'Cj': '0 fF'},\n",
       " 'sweep_setup': {'name': 'Sweep',\n",
       "  'start_ghz': 2,\n",
       "  'stop_ghz': 18,\n",
       "  'count': 25000,\n",
       "  'step_ghz': None,\n",
       "  'type': 'Interpolating',\n",
       "  'save_fields': False},\n",
       " 'junctions': {'jj': {'rect': 'JJ_rect_Lj_diss_rect_jj',\n",
       "   'line': 'JJ_Lj_diss_rect_jj_'}}}"
      ]
     },
     "execution_count": 44,
     "metadata": {},
     "output_type": "execute_result"
    }
   ],
   "source": [
    "em1.setup.sweep_setup.start_ghz = 2\n",
    "em1.setup.sweep_setup.stop_ghz = 18\n",
    "\n",
    "# Change Simulation Settings\n",
    "em1.setup.reuse_selected_design = False\n",
    "em1.setup.reuse_setup = False\n",
    "em1.setup.max_passes = 12\n",
    "em1.setup.min_passes = 5\n",
    "em1.setup.max_delta_s = 0.1\n",
    "em1.setup.min_converged = 5\n",
    "em1.setup.pct_refinement = 30\n",
    "em1.setup.sweep_setup.count = 25000\n",
    "em1.setup.sweep_setup.type = 'Interpolating'\n",
    "# example: update multiple settings\n",
    "\n",
    "em1.setup.vars.Lj = '10 nH'\n",
    "em1.setup.vars.Cj = '0 fF'\n",
    "\n",
    "em1.setup.junctions.jj.rect = 'JJ_rect_Lj_diss_rect_jj'\n",
    "em1.setup.junctions.jj.line = 'JJ_Lj_diss_rect_jj_'\n",
    "\n",
    "em1.setup\n"
   ]
  },
  {
   "cell_type": "code",
   "execution_count": 45,
   "id": "416f5044",
   "metadata": {},
   "outputs": [
    {
     "name": "stderr",
     "output_type": "stream",
     "text": [
      "INFO 09:49PM [get_setup]: \tOpened setup `Setup1`  (<class 'pyEPR.ansys.HfssEMSetup'>)\n"
     ]
    },
    {
     "ename": "com_error",
     "evalue": "(-2147417851, 'The server threw an exception.', None, None)",
     "output_type": "error",
     "traceback": [
      "\u001b[1;31m---------------------------------------------------------------------------\u001b[0m",
      "\u001b[1;31mcom_error\u001b[0m                                 Traceback (most recent call last)",
      "\u001b[1;32m~\\AppData\\Local\\Temp/ipykernel_8604/4117139770.py\u001b[0m in \u001b[0;36m<module>\u001b[1;34m\u001b[0m\n\u001b[1;32m----> 1\u001b[1;33m \u001b[0mem1\u001b[0m\u001b[1;33m.\u001b[0m\u001b[0m_analyze\u001b[0m\u001b[1;33m(\u001b[0m\u001b[1;33m)\u001b[0m\u001b[1;33m\u001b[0m\u001b[1;33m\u001b[0m\u001b[0m\n\u001b[0m",
      "\u001b[1;32md:\\users\\lfl\\documents\\qiskit-metal\\qiskit_metal\\analyses\\simulation\\scattering_impedance.py\u001b[0m in \u001b[0;36m_analyze\u001b[1;34m(self)\u001b[0m\n\u001b[0;32m     89\u001b[0m         \u001b[0moutput\u001b[0m \u001b[0mof\u001b[0m \u001b[0mthe\u001b[0m \u001b[0manalysis\u001b[0m \u001b[1;32mand\u001b[0m \u001b[0mstores\u001b[0m \u001b[0mit\u001b[0m \u001b[1;32min\u001b[0m \u001b[0mself\u001b[0m\u001b[1;33m.\u001b[0m\u001b[0mparams_z\u001b[0m\u001b[1;33m/\u001b[0m\u001b[0mparams_y\u001b[0m\u001b[1;33m/\u001b[0m\u001b[0mparams_s\u001b[0m\u001b[1;33m.\u001b[0m\u001b[1;33m\u001b[0m\u001b[1;33m\u001b[0m\u001b[0m\n\u001b[0;32m     90\u001b[0m         \"\"\"\n\u001b[1;32m---> 91\u001b[1;33m         self.sim_setup_name, self.sweep_name = self.renderer.initialize_drivenmodal(\n\u001b[0m\u001b[0;32m     92\u001b[0m             **self.setup)\n\u001b[0;32m     93\u001b[0m \u001b[1;33m\u001b[0m\u001b[0m\n",
      "\u001b[1;32md:\\users\\lfl\\documents\\qiskit-metal\\qiskit_metal\\renderers\\renderer_ansys\\ansys_renderer.py\u001b[0m in \u001b[0;36minitialize_drivenmodal\u001b[1;34m(self, sweep_setup, vars, **kwargs)\u001b[0m\n\u001b[0;32m    928\u001b[0m         \u001b[0mself\u001b[0m\u001b[1;33m.\u001b[0m\u001b[0mset_variables\u001b[0m\u001b[1;33m(\u001b[0m\u001b[0mvars\u001b[0m\u001b[1;33m)\u001b[0m\u001b[1;33m\u001b[0m\u001b[1;33m\u001b[0m\u001b[0m\n\u001b[0;32m    929\u001b[0m         \u001b[0msetup\u001b[0m \u001b[1;33m=\u001b[0m \u001b[0mself\u001b[0m\u001b[1;33m.\u001b[0m\u001b[0mnew_ansys_setup\u001b[0m\u001b[1;33m(\u001b[0m\u001b[1;33m**\u001b[0m\u001b[0mkwargs\u001b[0m\u001b[1;33m)\u001b[0m  \u001b[1;31m# TODO: activate_ansys_setup?\u001b[0m\u001b[1;33m\u001b[0m\u001b[1;33m\u001b[0m\u001b[0m\n\u001b[1;32m--> 930\u001b[1;33m         \u001b[0msweep\u001b[0m \u001b[1;33m=\u001b[0m \u001b[0mself\u001b[0m\u001b[1;33m.\u001b[0m\u001b[0madd_sweep\u001b[0m\u001b[1;33m(\u001b[0m\u001b[0msetup\u001b[0m\u001b[1;33m.\u001b[0m\u001b[0mname\u001b[0m\u001b[1;33m,\u001b[0m \u001b[1;33m**\u001b[0m\u001b[0msweep_setup\u001b[0m\u001b[1;33m)\u001b[0m\u001b[1;33m\u001b[0m\u001b[1;33m\u001b[0m\u001b[0m\n\u001b[0m\u001b[0;32m    931\u001b[0m         \u001b[1;32mreturn\u001b[0m \u001b[0msetup\u001b[0m\u001b[1;33m.\u001b[0m\u001b[0mname\u001b[0m\u001b[1;33m,\u001b[0m \u001b[0msweep\u001b[0m\u001b[1;33m.\u001b[0m\u001b[0mname\u001b[0m\u001b[1;33m\u001b[0m\u001b[1;33m\u001b[0m\u001b[0m\n\u001b[0;32m    932\u001b[0m \u001b[1;33m\u001b[0m\u001b[0m\n",
      "\u001b[1;32md:\\users\\lfl\\documents\\qiskit-metal\\qiskit_metal\\renderers\\renderer_ansys\\hfss_renderer.py\u001b[0m in \u001b[0;36madd_sweep\u001b[1;34m(self, setup_name, start_ghz, stop_ghz, count, step_ghz, name, type, save_fields)\u001b[0m\n\u001b[0;32m    874\u001b[0m         \u001b[1;32mif\u001b[0m \u001b[0mself\u001b[0m\u001b[1;33m.\u001b[0m\u001b[0mpinfo\u001b[0m\u001b[1;33m:\u001b[0m\u001b[1;33m\u001b[0m\u001b[1;33m\u001b[0m\u001b[0m\n\u001b[0;32m    875\u001b[0m             \u001b[0msetup\u001b[0m \u001b[1;33m=\u001b[0m \u001b[0mself\u001b[0m\u001b[1;33m.\u001b[0m\u001b[0mpinfo\u001b[0m\u001b[1;33m.\u001b[0m\u001b[0mget_setup\u001b[0m\u001b[1;33m(\u001b[0m\u001b[0msetup_name\u001b[0m\u001b[1;33m)\u001b[0m\u001b[1;33m\u001b[0m\u001b[1;33m\u001b[0m\u001b[0m\n\u001b[1;32m--> 876\u001b[1;33m             return setup.insert_sweep(start_ghz=start_ghz,\n\u001b[0m\u001b[0;32m    877\u001b[0m                                       \u001b[0mstop_ghz\u001b[0m\u001b[1;33m=\u001b[0m\u001b[0mstop_ghz\u001b[0m\u001b[1;33m,\u001b[0m\u001b[1;33m\u001b[0m\u001b[1;33m\u001b[0m\u001b[0m\n\u001b[0;32m    878\u001b[0m                                       \u001b[0mcount\u001b[0m\u001b[1;33m=\u001b[0m\u001b[0mcount\u001b[0m\u001b[1;33m,\u001b[0m\u001b[1;33m\u001b[0m\u001b[1;33m\u001b[0m\u001b[0m\n",
      "\u001b[1;32mD:\\Users\\lfl\\Anaconda3\\envs\\qiskit-metal\\lib\\site-packages\\pyEPR\\ansys.py\u001b[0m in \u001b[0;36minsert_sweep\u001b[1;34m(self, start_ghz, stop_ghz, count, step_ghz, name, type, save_fields)\u001b[0m\n\u001b[0;32m   1079\u001b[0m             )\n\u001b[0;32m   1080\u001b[0m \u001b[1;33m\u001b[0m\u001b[0m\n\u001b[1;32m-> 1081\u001b[1;33m         \u001b[0mname\u001b[0m \u001b[1;33m=\u001b[0m \u001b[0mincrement_name\u001b[0m\u001b[1;33m(\u001b[0m\u001b[0mname\u001b[0m\u001b[1;33m,\u001b[0m \u001b[0mself\u001b[0m\u001b[1;33m.\u001b[0m\u001b[0mget_sweep_names\u001b[0m\u001b[1;33m(\u001b[0m\u001b[1;33m)\u001b[0m\u001b[1;33m)\u001b[0m\u001b[1;33m\u001b[0m\u001b[1;33m\u001b[0m\u001b[0m\n\u001b[0m\u001b[0;32m   1082\u001b[0m         params = [\n\u001b[0;32m   1083\u001b[0m             \u001b[1;34m\"NAME:\"\u001b[0m \u001b[1;33m+\u001b[0m \u001b[0mname\u001b[0m\u001b[1;33m,\u001b[0m\u001b[1;33m\u001b[0m\u001b[1;33m\u001b[0m\u001b[0m\n",
      "\u001b[1;32mD:\\Users\\lfl\\Anaconda3\\envs\\qiskit-metal\\lib\\site-packages\\pyEPR\\ansys.py\u001b[0m in \u001b[0;36mget_sweep_names\u001b[1;34m(self)\u001b[0m\n\u001b[0;32m   1158\u001b[0m \u001b[1;33m\u001b[0m\u001b[0m\n\u001b[0;32m   1159\u001b[0m     \u001b[1;32mdef\u001b[0m \u001b[0mget_sweep_names\u001b[0m\u001b[1;33m(\u001b[0m\u001b[0mself\u001b[0m\u001b[1;33m)\u001b[0m\u001b[1;33m:\u001b[0m\u001b[1;33m\u001b[0m\u001b[1;33m\u001b[0m\u001b[0m\n\u001b[1;32m-> 1160\u001b[1;33m         \u001b[1;32mreturn\u001b[0m \u001b[0mself\u001b[0m\u001b[1;33m.\u001b[0m\u001b[0m_setup_module\u001b[0m\u001b[1;33m.\u001b[0m\u001b[0mGetSweeps\u001b[0m\u001b[1;33m(\u001b[0m\u001b[0mself\u001b[0m\u001b[1;33m.\u001b[0m\u001b[0mname\u001b[0m\u001b[1;33m)\u001b[0m\u001b[1;33m\u001b[0m\u001b[1;33m\u001b[0m\u001b[0m\n\u001b[0m\u001b[0;32m   1161\u001b[0m \u001b[1;33m\u001b[0m\u001b[0m\n\u001b[0;32m   1162\u001b[0m     \u001b[1;32mdef\u001b[0m \u001b[0mget_sweep\u001b[0m\u001b[1;33m(\u001b[0m\u001b[0mself\u001b[0m\u001b[1;33m,\u001b[0m \u001b[0mname\u001b[0m\u001b[1;33m=\u001b[0m\u001b[1;32mNone\u001b[0m\u001b[1;33m)\u001b[0m\u001b[1;33m:\u001b[0m\u001b[1;33m\u001b[0m\u001b[1;33m\u001b[0m\u001b[0m\n",
      "\u001b[1;32mD:\\Users\\lfl\\Anaconda3\\envs\\qiskit-metal\\lib\\site-packages\\win32com\\client\\dynamic.py\u001b[0m in \u001b[0;36mGetSweeps\u001b[1;34m(self, setupNameArg)\u001b[0m\n",
      "\u001b[1;32mD:\\Users\\lfl\\Anaconda3\\envs\\qiskit-metal\\lib\\site-packages\\win32com\\client\\dynamic.py\u001b[0m in \u001b[0;36m_ApplyTypes_\u001b[1;34m(self, dispid, wFlags, retType, argTypes, user, resultCLSID, *args)\u001b[0m\n\u001b[0;32m    366\u001b[0m \u001b[1;33m\u001b[0m\u001b[0m\n\u001b[0;32m    367\u001b[0m     \u001b[1;32mdef\u001b[0m \u001b[0m_ApplyTypes_\u001b[0m\u001b[1;33m(\u001b[0m\u001b[0mself\u001b[0m\u001b[1;33m,\u001b[0m \u001b[0mdispid\u001b[0m\u001b[1;33m,\u001b[0m \u001b[0mwFlags\u001b[0m\u001b[1;33m,\u001b[0m \u001b[0mretType\u001b[0m\u001b[1;33m,\u001b[0m \u001b[0margTypes\u001b[0m\u001b[1;33m,\u001b[0m \u001b[0muser\u001b[0m\u001b[1;33m,\u001b[0m \u001b[0mresultCLSID\u001b[0m\u001b[1;33m,\u001b[0m \u001b[1;33m*\u001b[0m\u001b[0margs\u001b[0m\u001b[1;33m)\u001b[0m\u001b[1;33m:\u001b[0m\u001b[1;33m\u001b[0m\u001b[1;33m\u001b[0m\u001b[0m\n\u001b[1;32m--> 368\u001b[1;33m         result = self._oleobj_.InvokeTypes(\n\u001b[0m\u001b[0;32m    369\u001b[0m             \u001b[1;33m*\u001b[0m\u001b[1;33m(\u001b[0m\u001b[0mdispid\u001b[0m\u001b[1;33m,\u001b[0m \u001b[0mLCID\u001b[0m\u001b[1;33m,\u001b[0m \u001b[0mwFlags\u001b[0m\u001b[1;33m,\u001b[0m \u001b[0mretType\u001b[0m\u001b[1;33m,\u001b[0m \u001b[0margTypes\u001b[0m\u001b[1;33m)\u001b[0m \u001b[1;33m+\u001b[0m \u001b[0margs\u001b[0m\u001b[1;33m\u001b[0m\u001b[1;33m\u001b[0m\u001b[0m\n\u001b[0;32m    370\u001b[0m         )\n",
      "\u001b[1;31mcom_error\u001b[0m: (-2147417851, 'The server threw an exception.', None, None)"
     ]
    }
   ],
   "source": [
    "em1._analyze()"
   ]
  },
  {
   "cell_type": "code",
   "execution_count": 46,
   "id": "3fdb9f05",
   "metadata": {},
   "outputs": [
    {
     "name": "stderr",
     "output_type": "stream",
     "text": [
      "INFO 09:49PM [get_setup]: \tOpened setup `Setup2`  (<class 'pyEPR.ansys.HfssEMSetup'>)\n"
     ]
    },
    {
     "ename": "com_error",
     "evalue": "(-2147417851, 'The server threw an exception.', None, None)",
     "output_type": "error",
     "traceback": [
      "\u001b[1;31m---------------------------------------------------------------------------\u001b[0m",
      "\u001b[1;31mcom_error\u001b[0m                                 Traceback (most recent call last)",
      "\u001b[1;32m~\\AppData\\Local\\Temp/ipykernel_8604/63370208.py\u001b[0m in \u001b[0;36m<module>\u001b[1;34m\u001b[0m\n\u001b[1;32m----> 1\u001b[1;33m \u001b[0mem1\u001b[0m\u001b[1;33m.\u001b[0m\u001b[0mrun\u001b[0m\u001b[1;33m(\u001b[0m\u001b[1;33m)\u001b[0m\u001b[1;33m\u001b[0m\u001b[1;33m\u001b[0m\u001b[0m\n\u001b[0m",
      "\u001b[1;32md:\\users\\lfl\\documents\\qiskit-metal\\qiskit_metal\\analyses\\core\\simulation.py\u001b[0m in \u001b[0;36mrun\u001b[1;34m(self, *args, **kwargs)\u001b[0m\n\u001b[0;32m    201\u001b[0m         \u001b[0mpreventing\u001b[0m \u001b[0mmethod\u001b[0m \u001b[0mname\u001b[0m \u001b[0mcollision\u001b[0m \u001b[0mwhen\u001b[0m \u001b[0msim\u001b[0m \u001b[1;32mand\u001b[0m \u001b[0mnon\u001b[0m\u001b[1;33m-\u001b[0m\u001b[0msim\u001b[0m \u001b[0mQAnalysis\u001b[0m \u001b[0mclasses\u001b[0m \u001b[0mare\u001b[0m \u001b[0minherited\u001b[0m\u001b[1;33m.\u001b[0m\u001b[1;33m\u001b[0m\u001b[1;33m\u001b[0m\u001b[0m\n\u001b[0;32m    202\u001b[0m         \"\"\"\n\u001b[1;32m--> 203\u001b[1;33m         \u001b[0mself\u001b[0m\u001b[1;33m.\u001b[0m\u001b[0mrun_sim\u001b[0m\u001b[1;33m(\u001b[0m\u001b[1;33m*\u001b[0m\u001b[0margs\u001b[0m\u001b[1;33m,\u001b[0m \u001b[1;33m**\u001b[0m\u001b[0mkwargs\u001b[0m\u001b[1;33m)\u001b[0m\u001b[1;33m\u001b[0m\u001b[1;33m\u001b[0m\u001b[0m\n\u001b[0m\u001b[0;32m    204\u001b[0m \u001b[1;33m\u001b[0m\u001b[0m\n\u001b[0;32m    205\u001b[0m     \u001b[1;33m@\u001b[0m\u001b[0mabstractmethod\u001b[0m\u001b[1;33m\u001b[0m\u001b[1;33m\u001b[0m\u001b[0m\n",
      "\u001b[1;32md:\\users\\lfl\\documents\\qiskit-metal\\qiskit_metal\\analyses\\simulation\\scattering_impedance.py\u001b[0m in \u001b[0;36mrun_sim\u001b[1;34m(self, name, components, open_terminations, port_list, jj_to_port, ignored_jjs, box_plus_buffer)\u001b[0m\n\u001b[0;32m    184\u001b[0m             vars_to_initialize=vars_to_initialize)\n\u001b[0;32m    185\u001b[0m \u001b[1;33m\u001b[0m\u001b[0m\n\u001b[1;32m--> 186\u001b[1;33m         \u001b[0mself\u001b[0m\u001b[1;33m.\u001b[0m\u001b[0m_analyze\u001b[0m\u001b[1;33m(\u001b[0m\u001b[1;33m)\u001b[0m\u001b[1;33m\u001b[0m\u001b[1;33m\u001b[0m\u001b[0m\n\u001b[0m\u001b[0;32m    187\u001b[0m         \u001b[1;32mreturn\u001b[0m \u001b[0mrenderer_design_name\u001b[0m\u001b[1;33m,\u001b[0m \u001b[0mself\u001b[0m\u001b[1;33m.\u001b[0m\u001b[0msim_setup_name\u001b[0m\u001b[1;33m\u001b[0m\u001b[1;33m\u001b[0m\u001b[0m\n\u001b[0;32m    188\u001b[0m \u001b[1;33m\u001b[0m\u001b[0m\n",
      "\u001b[1;32md:\\users\\lfl\\documents\\qiskit-metal\\qiskit_metal\\analyses\\simulation\\scattering_impedance.py\u001b[0m in \u001b[0;36m_analyze\u001b[1;34m(self)\u001b[0m\n\u001b[0;32m     89\u001b[0m         \u001b[0moutput\u001b[0m \u001b[0mof\u001b[0m \u001b[0mthe\u001b[0m \u001b[0manalysis\u001b[0m \u001b[1;32mand\u001b[0m \u001b[0mstores\u001b[0m \u001b[0mit\u001b[0m \u001b[1;32min\u001b[0m \u001b[0mself\u001b[0m\u001b[1;33m.\u001b[0m\u001b[0mparams_z\u001b[0m\u001b[1;33m/\u001b[0m\u001b[0mparams_y\u001b[0m\u001b[1;33m/\u001b[0m\u001b[0mparams_s\u001b[0m\u001b[1;33m.\u001b[0m\u001b[1;33m\u001b[0m\u001b[1;33m\u001b[0m\u001b[0m\n\u001b[0;32m     90\u001b[0m         \"\"\"\n\u001b[1;32m---> 91\u001b[1;33m         self.sim_setup_name, self.sweep_name = self.renderer.initialize_drivenmodal(\n\u001b[0m\u001b[0;32m     92\u001b[0m             **self.setup)\n\u001b[0;32m     93\u001b[0m \u001b[1;33m\u001b[0m\u001b[0m\n",
      "\u001b[1;32md:\\users\\lfl\\documents\\qiskit-metal\\qiskit_metal\\renderers\\renderer_ansys\\ansys_renderer.py\u001b[0m in \u001b[0;36minitialize_drivenmodal\u001b[1;34m(self, sweep_setup, vars, **kwargs)\u001b[0m\n\u001b[0;32m    928\u001b[0m         \u001b[0mself\u001b[0m\u001b[1;33m.\u001b[0m\u001b[0mset_variables\u001b[0m\u001b[1;33m(\u001b[0m\u001b[0mvars\u001b[0m\u001b[1;33m)\u001b[0m\u001b[1;33m\u001b[0m\u001b[1;33m\u001b[0m\u001b[0m\n\u001b[0;32m    929\u001b[0m         \u001b[0msetup\u001b[0m \u001b[1;33m=\u001b[0m \u001b[0mself\u001b[0m\u001b[1;33m.\u001b[0m\u001b[0mnew_ansys_setup\u001b[0m\u001b[1;33m(\u001b[0m\u001b[1;33m**\u001b[0m\u001b[0mkwargs\u001b[0m\u001b[1;33m)\u001b[0m  \u001b[1;31m# TODO: activate_ansys_setup?\u001b[0m\u001b[1;33m\u001b[0m\u001b[1;33m\u001b[0m\u001b[0m\n\u001b[1;32m--> 930\u001b[1;33m         \u001b[0msweep\u001b[0m \u001b[1;33m=\u001b[0m \u001b[0mself\u001b[0m\u001b[1;33m.\u001b[0m\u001b[0madd_sweep\u001b[0m\u001b[1;33m(\u001b[0m\u001b[0msetup\u001b[0m\u001b[1;33m.\u001b[0m\u001b[0mname\u001b[0m\u001b[1;33m,\u001b[0m \u001b[1;33m**\u001b[0m\u001b[0msweep_setup\u001b[0m\u001b[1;33m)\u001b[0m\u001b[1;33m\u001b[0m\u001b[1;33m\u001b[0m\u001b[0m\n\u001b[0m\u001b[0;32m    931\u001b[0m         \u001b[1;32mreturn\u001b[0m \u001b[0msetup\u001b[0m\u001b[1;33m.\u001b[0m\u001b[0mname\u001b[0m\u001b[1;33m,\u001b[0m \u001b[0msweep\u001b[0m\u001b[1;33m.\u001b[0m\u001b[0mname\u001b[0m\u001b[1;33m\u001b[0m\u001b[1;33m\u001b[0m\u001b[0m\n\u001b[0;32m    932\u001b[0m \u001b[1;33m\u001b[0m\u001b[0m\n",
      "\u001b[1;32md:\\users\\lfl\\documents\\qiskit-metal\\qiskit_metal\\renderers\\renderer_ansys\\hfss_renderer.py\u001b[0m in \u001b[0;36madd_sweep\u001b[1;34m(self, setup_name, start_ghz, stop_ghz, count, step_ghz, name, type, save_fields)\u001b[0m\n\u001b[0;32m    874\u001b[0m         \u001b[1;32mif\u001b[0m \u001b[0mself\u001b[0m\u001b[1;33m.\u001b[0m\u001b[0mpinfo\u001b[0m\u001b[1;33m:\u001b[0m\u001b[1;33m\u001b[0m\u001b[1;33m\u001b[0m\u001b[0m\n\u001b[0;32m    875\u001b[0m             \u001b[0msetup\u001b[0m \u001b[1;33m=\u001b[0m \u001b[0mself\u001b[0m\u001b[1;33m.\u001b[0m\u001b[0mpinfo\u001b[0m\u001b[1;33m.\u001b[0m\u001b[0mget_setup\u001b[0m\u001b[1;33m(\u001b[0m\u001b[0msetup_name\u001b[0m\u001b[1;33m)\u001b[0m\u001b[1;33m\u001b[0m\u001b[1;33m\u001b[0m\u001b[0m\n\u001b[1;32m--> 876\u001b[1;33m             return setup.insert_sweep(start_ghz=start_ghz,\n\u001b[0m\u001b[0;32m    877\u001b[0m                                       \u001b[0mstop_ghz\u001b[0m\u001b[1;33m=\u001b[0m\u001b[0mstop_ghz\u001b[0m\u001b[1;33m,\u001b[0m\u001b[1;33m\u001b[0m\u001b[1;33m\u001b[0m\u001b[0m\n\u001b[0;32m    878\u001b[0m                                       \u001b[0mcount\u001b[0m\u001b[1;33m=\u001b[0m\u001b[0mcount\u001b[0m\u001b[1;33m,\u001b[0m\u001b[1;33m\u001b[0m\u001b[1;33m\u001b[0m\u001b[0m\n",
      "\u001b[1;32mD:\\Users\\lfl\\Anaconda3\\envs\\qiskit-metal\\lib\\site-packages\\pyEPR\\ansys.py\u001b[0m in \u001b[0;36minsert_sweep\u001b[1;34m(self, start_ghz, stop_ghz, count, step_ghz, name, type, save_fields)\u001b[0m\n\u001b[0;32m   1079\u001b[0m             )\n\u001b[0;32m   1080\u001b[0m \u001b[1;33m\u001b[0m\u001b[0m\n\u001b[1;32m-> 1081\u001b[1;33m         \u001b[0mname\u001b[0m \u001b[1;33m=\u001b[0m \u001b[0mincrement_name\u001b[0m\u001b[1;33m(\u001b[0m\u001b[0mname\u001b[0m\u001b[1;33m,\u001b[0m \u001b[0mself\u001b[0m\u001b[1;33m.\u001b[0m\u001b[0mget_sweep_names\u001b[0m\u001b[1;33m(\u001b[0m\u001b[1;33m)\u001b[0m\u001b[1;33m)\u001b[0m\u001b[1;33m\u001b[0m\u001b[1;33m\u001b[0m\u001b[0m\n\u001b[0m\u001b[0;32m   1082\u001b[0m         params = [\n\u001b[0;32m   1083\u001b[0m             \u001b[1;34m\"NAME:\"\u001b[0m \u001b[1;33m+\u001b[0m \u001b[0mname\u001b[0m\u001b[1;33m,\u001b[0m\u001b[1;33m\u001b[0m\u001b[1;33m\u001b[0m\u001b[0m\n",
      "\u001b[1;32mD:\\Users\\lfl\\Anaconda3\\envs\\qiskit-metal\\lib\\site-packages\\pyEPR\\ansys.py\u001b[0m in \u001b[0;36mget_sweep_names\u001b[1;34m(self)\u001b[0m\n\u001b[0;32m   1158\u001b[0m \u001b[1;33m\u001b[0m\u001b[0m\n\u001b[0;32m   1159\u001b[0m     \u001b[1;32mdef\u001b[0m \u001b[0mget_sweep_names\u001b[0m\u001b[1;33m(\u001b[0m\u001b[0mself\u001b[0m\u001b[1;33m)\u001b[0m\u001b[1;33m:\u001b[0m\u001b[1;33m\u001b[0m\u001b[1;33m\u001b[0m\u001b[0m\n\u001b[1;32m-> 1160\u001b[1;33m         \u001b[1;32mreturn\u001b[0m \u001b[0mself\u001b[0m\u001b[1;33m.\u001b[0m\u001b[0m_setup_module\u001b[0m\u001b[1;33m.\u001b[0m\u001b[0mGetSweeps\u001b[0m\u001b[1;33m(\u001b[0m\u001b[0mself\u001b[0m\u001b[1;33m.\u001b[0m\u001b[0mname\u001b[0m\u001b[1;33m)\u001b[0m\u001b[1;33m\u001b[0m\u001b[1;33m\u001b[0m\u001b[0m\n\u001b[0m\u001b[0;32m   1161\u001b[0m \u001b[1;33m\u001b[0m\u001b[0m\n\u001b[0;32m   1162\u001b[0m     \u001b[1;32mdef\u001b[0m \u001b[0mget_sweep\u001b[0m\u001b[1;33m(\u001b[0m\u001b[0mself\u001b[0m\u001b[1;33m,\u001b[0m \u001b[0mname\u001b[0m\u001b[1;33m=\u001b[0m\u001b[1;32mNone\u001b[0m\u001b[1;33m)\u001b[0m\u001b[1;33m:\u001b[0m\u001b[1;33m\u001b[0m\u001b[1;33m\u001b[0m\u001b[0m\n",
      "\u001b[1;32mD:\\Users\\lfl\\Anaconda3\\envs\\qiskit-metal\\lib\\site-packages\\win32com\\client\\dynamic.py\u001b[0m in \u001b[0;36mGetSweeps\u001b[1;34m(self, setupNameArg)\u001b[0m\n",
      "\u001b[1;32mD:\\Users\\lfl\\Anaconda3\\envs\\qiskit-metal\\lib\\site-packages\\win32com\\client\\dynamic.py\u001b[0m in \u001b[0;36m_ApplyTypes_\u001b[1;34m(self, dispid, wFlags, retType, argTypes, user, resultCLSID, *args)\u001b[0m\n\u001b[0;32m    366\u001b[0m \u001b[1;33m\u001b[0m\u001b[0m\n\u001b[0;32m    367\u001b[0m     \u001b[1;32mdef\u001b[0m \u001b[0m_ApplyTypes_\u001b[0m\u001b[1;33m(\u001b[0m\u001b[0mself\u001b[0m\u001b[1;33m,\u001b[0m \u001b[0mdispid\u001b[0m\u001b[1;33m,\u001b[0m \u001b[0mwFlags\u001b[0m\u001b[1;33m,\u001b[0m \u001b[0mretType\u001b[0m\u001b[1;33m,\u001b[0m \u001b[0margTypes\u001b[0m\u001b[1;33m,\u001b[0m \u001b[0muser\u001b[0m\u001b[1;33m,\u001b[0m \u001b[0mresultCLSID\u001b[0m\u001b[1;33m,\u001b[0m \u001b[1;33m*\u001b[0m\u001b[0margs\u001b[0m\u001b[1;33m)\u001b[0m\u001b[1;33m:\u001b[0m\u001b[1;33m\u001b[0m\u001b[1;33m\u001b[0m\u001b[0m\n\u001b[1;32m--> 368\u001b[1;33m         result = self._oleobj_.InvokeTypes(\n\u001b[0m\u001b[0;32m    369\u001b[0m             \u001b[1;33m*\u001b[0m\u001b[1;33m(\u001b[0m\u001b[0mdispid\u001b[0m\u001b[1;33m,\u001b[0m \u001b[0mLCID\u001b[0m\u001b[1;33m,\u001b[0m \u001b[0mwFlags\u001b[0m\u001b[1;33m,\u001b[0m \u001b[0mretType\u001b[0m\u001b[1;33m,\u001b[0m \u001b[0margTypes\u001b[0m\u001b[1;33m)\u001b[0m \u001b[1;33m+\u001b[0m \u001b[0margs\u001b[0m\u001b[1;33m\u001b[0m\u001b[1;33m\u001b[0m\u001b[0m\n\u001b[0;32m    370\u001b[0m         )\n",
      "\u001b[1;31mcom_error\u001b[0m: (-2147417851, 'The server threw an exception.', None, None)"
     ]
    }
   ],
   "source": [
    "em1.run()"
   ]
  },
  {
   "cell_type": "code",
   "execution_count": null,
   "id": "b6c14b72",
   "metadata": {},
   "outputs": [],
   "source": [
    "hfss = em1.renderer\n",
    "hfss.activate_ansys_design(\"test_ocs_qubit\", 'drivenmodal')\n",
    "\n",
    "hfss.clean_active_design()\n",
    "\n",
    "hfss.max_mesh_length_port = '0.01um'\n",
    "hfss.max_mesh_length_jj = '0.015um'\n",
    "\n",
    "hfss.render_design(selection=['Q1'], \n",
    "                   open_pins = [], \n",
    "                   port_list = [('Q1', 'claw',50)],\n",
    "                   box_plus_buffer = True)"
   ]
  }
 ],
 "metadata": {
  "kernelspec": {
   "display_name": "qiskit-metal",
   "language": "python",
   "name": "qiskit-metal"
  },
  "language_info": {
   "codemirror_mode": {
    "name": "ipython",
    "version": 3
   },
   "file_extension": ".py",
   "mimetype": "text/x-python",
   "name": "python",
   "nbconvert_exporter": "python",
   "pygments_lexer": "ipython3",
   "version": "3.9.9"
  },
  "toc": {
   "base_numbering": 1,
   "nav_menu": {},
   "number_sections": true,
   "sideBar": true,
   "skip_h1_title": false,
   "title_cell": "Table of Contents",
   "title_sidebar": "Contents",
   "toc_cell": false,
   "toc_position": {},
   "toc_section_display": true,
   "toc_window_display": false
  }
 },
 "nbformat": 4,
 "nbformat_minor": 5
}
